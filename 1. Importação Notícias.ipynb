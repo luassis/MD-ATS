{
 "cells": [
  {
   "cell_type": "markdown",
   "id": "affc0ece",
   "metadata": {},
   "source": [
    "## 1. Importação das bibliotecas"
   ]
  },
  {
   "cell_type": "code",
   "execution_count": 1,
   "id": "9b1d61c5",
   "metadata": {},
   "outputs": [],
   "source": [
    "import json\n",
    "import os\n",
    "import pandas as pd"
   ]
  },
  {
   "cell_type": "markdown",
   "id": "e5a511c8",
   "metadata": {},
   "source": [
    "## 2. Leitura dos Arquivos"
   ]
  },
  {
   "cell_type": "markdown",
   "id": "85c9e189",
   "metadata": {},
   "source": [
    "### 2.1. Geração de um Dataframe com a lista de notícias"
   ]
  },
  {
   "cell_type": "markdown",
   "id": "d6941f60",
   "metadata": {},
   "source": [
    "Base de dados: https://github.com/sunnysai12345/News_Summary\n",
    "\n",
    "Nesta etapa, é gerado um dataframe que armazena o título, notícia resumo.\n",
    "\n",
    "Para executar esse trecho de código é necessário que o arquivo news_summary esteja no mesmo diretório de execução do programa."
   ]
  },
  {
   "cell_type": "code",
   "execution_count": 2,
   "id": "faf95e18",
   "metadata": {},
   "outputs": [
    {
     "data": {
      "text/html": [
       "<div>\n",
       "<style scoped>\n",
       "    .dataframe tbody tr th:only-of-type {\n",
       "        vertical-align: middle;\n",
       "    }\n",
       "\n",
       "    .dataframe tbody tr th {\n",
       "        vertical-align: top;\n",
       "    }\n",
       "\n",
       "    .dataframe thead th {\n",
       "        text-align: right;\n",
       "    }\n",
       "</style>\n",
       "<table border=\"1\" class=\"dataframe\">\n",
       "  <thead>\n",
       "    <tr style=\"text-align: right;\">\n",
       "      <th></th>\n",
       "      <th>headlines</th>\n",
       "      <th>text</th>\n",
       "      <th>ctext</th>\n",
       "    </tr>\n",
       "  </thead>\n",
       "  <tbody>\n",
       "    <tr>\n",
       "      <th>0</th>\n",
       "      <td>Daman &amp; Diu revokes mandatory Rakshabandhan in...</td>\n",
       "      <td>The Administration of Union Territory Daman an...</td>\n",
       "      <td>The Daman and Diu administration on Wednesday ...</td>\n",
       "    </tr>\n",
       "    <tr>\n",
       "      <th>1</th>\n",
       "      <td>Malaika slams user who trolled her for 'divorc...</td>\n",
       "      <td>Malaika Arora slammed an Instagram user who tr...</td>\n",
       "      <td>From her special numbers to TV?appearances, Bo...</td>\n",
       "    </tr>\n",
       "    <tr>\n",
       "      <th>2</th>\n",
       "      <td>'Virgin' now corrected to 'Unmarried' in IGIMS...</td>\n",
       "      <td>The Indira Gandhi Institute of Medical Science...</td>\n",
       "      <td>The Indira Gandhi Institute of Medical Science...</td>\n",
       "    </tr>\n",
       "    <tr>\n",
       "      <th>3</th>\n",
       "      <td>Aaj aapne pakad liya: LeT man Dujana before be...</td>\n",
       "      <td>Lashkar-e-Taiba's Kashmir commander Abu Dujana...</td>\n",
       "      <td>Lashkar-e-Taiba's Kashmir commander Abu Dujana...</td>\n",
       "    </tr>\n",
       "    <tr>\n",
       "      <th>4</th>\n",
       "      <td>Hotel staff to get training to spot signs of s...</td>\n",
       "      <td>Hotels in Maharashtra will train their staff t...</td>\n",
       "      <td>Hotels in Mumbai and other Indian cities are t...</td>\n",
       "    </tr>\n",
       "    <tr>\n",
       "      <th>...</th>\n",
       "      <td>...</td>\n",
       "      <td>...</td>\n",
       "      <td>...</td>\n",
       "    </tr>\n",
       "    <tr>\n",
       "      <th>3960</th>\n",
       "      <td>Rasna seeking ?250 cr revenue from snack categ...</td>\n",
       "      <td>Fruit juice concentrate maker Rasna is eyeing ...</td>\n",
       "      <td>Mumbai, Feb 23 (PTI) Fruit juice concentrate m...</td>\n",
       "    </tr>\n",
       "    <tr>\n",
       "      <th>3961</th>\n",
       "      <td>Sachin attends Rajya Sabha after questions on ...</td>\n",
       "      <td>Former Indian cricketer Sachin Tendulkar atten...</td>\n",
       "      <td>Former cricketer Sachin Tendulkar was spotted ...</td>\n",
       "    </tr>\n",
       "    <tr>\n",
       "      <th>3962</th>\n",
       "      <td>Shouldn't rob their childhood: Aamir on kids r...</td>\n",
       "      <td>Aamir Khan, while talking about reality shows ...</td>\n",
       "      <td>Aamir Khan, whose last film Dangal told the st...</td>\n",
       "    </tr>\n",
       "    <tr>\n",
       "      <th>3963</th>\n",
       "      <td>Asha Bhosle gets ?53,000 power bill for unused...</td>\n",
       "      <td>The Maharashtra government has initiated an in...</td>\n",
       "      <td>Maharahstra Power Minister Chandrashekhar Bawa...</td>\n",
       "    </tr>\n",
       "    <tr>\n",
       "      <th>3964</th>\n",
       "      <td>More than half of India's languages may die in...</td>\n",
       "      <td>At least 400 languages or more than half langu...</td>\n",
       "      <td>More than half of the languages spoken by Indi...</td>\n",
       "    </tr>\n",
       "  </tbody>\n",
       "</table>\n",
       "<p>3965 rows × 3 columns</p>\n",
       "</div>"
      ],
      "text/plain": [
       "                                              headlines  \\\n",
       "0     Daman & Diu revokes mandatory Rakshabandhan in...   \n",
       "1     Malaika slams user who trolled her for 'divorc...   \n",
       "2     'Virgin' now corrected to 'Unmarried' in IGIMS...   \n",
       "3     Aaj aapne pakad liya: LeT man Dujana before be...   \n",
       "4     Hotel staff to get training to spot signs of s...   \n",
       "...                                                 ...   \n",
       "3960  Rasna seeking ?250 cr revenue from snack categ...   \n",
       "3961  Sachin attends Rajya Sabha after questions on ...   \n",
       "3962  Shouldn't rob their childhood: Aamir on kids r...   \n",
       "3963  Asha Bhosle gets ?53,000 power bill for unused...   \n",
       "3964  More than half of India's languages may die in...   \n",
       "\n",
       "                                                   text  \\\n",
       "0     The Administration of Union Territory Daman an...   \n",
       "1     Malaika Arora slammed an Instagram user who tr...   \n",
       "2     The Indira Gandhi Institute of Medical Science...   \n",
       "3     Lashkar-e-Taiba's Kashmir commander Abu Dujana...   \n",
       "4     Hotels in Maharashtra will train their staff t...   \n",
       "...                                                 ...   \n",
       "3960  Fruit juice concentrate maker Rasna is eyeing ...   \n",
       "3961  Former Indian cricketer Sachin Tendulkar atten...   \n",
       "3962  Aamir Khan, while talking about reality shows ...   \n",
       "3963  The Maharashtra government has initiated an in...   \n",
       "3964  At least 400 languages or more than half langu...   \n",
       "\n",
       "                                                  ctext  \n",
       "0     The Daman and Diu administration on Wednesday ...  \n",
       "1     From her special numbers to TV?appearances, Bo...  \n",
       "2     The Indira Gandhi Institute of Medical Science...  \n",
       "3     Lashkar-e-Taiba's Kashmir commander Abu Dujana...  \n",
       "4     Hotels in Mumbai and other Indian cities are t...  \n",
       "...                                                 ...  \n",
       "3960  Mumbai, Feb 23 (PTI) Fruit juice concentrate m...  \n",
       "3961  Former cricketer Sachin Tendulkar was spotted ...  \n",
       "3962  Aamir Khan, whose last film Dangal told the st...  \n",
       "3963  Maharahstra Power Minister Chandrashekhar Bawa...  \n",
       "3964  More than half of the languages spoken by Indi...  \n",
       "\n",
       "[3965 rows x 3 columns]"
      ]
     },
     "metadata": {},
     "output_type": "display_data"
    }
   ],
   "source": [
    "df_news = pd.read_excel('news_summary.xlsx', index_col=None, usecols = \"C,E,F\")\n",
    "display(df_news)"
   ]
  },
  {
   "cell_type": "markdown",
   "id": "e44ee2ec",
   "metadata": {},
   "source": [
    "### 2.2. Geração de um dicionário para armazenar os dados do DataFrame"
   ]
  },
  {
   "cell_type": "code",
   "execution_count": 3,
   "id": "66f9f9ca",
   "metadata": {},
   "outputs": [],
   "source": [
    "artigos = []\n",
    "\n",
    "# Percorre o DataFrame para separar os campos: título, conteúdo e sumário\n",
    "for i in df_news.index:\n",
    "    texto = df_news['ctext'][i]\n",
    "    sumario = df_news['text'][i]\n",
    "    titulo = df_news['headlines'][i]\n",
    "    \n",
    "    texto = texto.replace('\"', '')\n",
    "    texto = texto.replace('?', '')\n",
    "    texto = texto.replace('\\n', '')\n",
    "    texto = texto.replace('\\t', '')\n",
    "    texto = texto.replace('...', '.')\n",
    "    texto = texto.replace('. ', '.')\n",
    "    texto = texto.replace('.', '. ')\n",
    "    \n",
    "    sumario = sumario.replace('\"', '')\n",
    "    sumario = sumario.replace('?', '')\n",
    "    sumario = sumario.replace('. ', '.')\n",
    "    sumario = sumario.replace('.', '. ')\n",
    "    \n",
    "    artigos.append({'titulo': titulo, 'conteudo': texto, 'sumario': sumario})"
   ]
  },
  {
   "cell_type": "markdown",
   "id": "90d3b86f",
   "metadata": {},
   "source": [
    "### 2.3. Geração de um arquivo JSON"
   ]
  },
  {
   "cell_type": "markdown",
   "id": "aff37292",
   "metadata": {},
   "source": [
    "Um arquivo JSON será criado com o título, conteúdo e sumário de todas as notícias da base de dados. Esse arquivo será utilizado como base para a execução dos algoritmos de sumarização:\n",
    "- Algoritmo baseado em frequência\n",
    "- Algoritmo de Luhn\n",
    "- Algoritmo de similaridade do cosseno"
   ]
  },
  {
   "cell_type": "code",
   "execution_count": 4,
   "id": "0d6029bc",
   "metadata": {},
   "outputs": [],
   "source": [
    "# Será criado um arquivo bbc_news.json no mesmo diretório de execução do programa\n",
    "arquivo_gravar = os.path.join('news.json')\n",
    "arquivo = open(arquivo_gravar, 'w+')\n",
    "arquivo.write(json.dumps(artigos, indent=1))\n",
    "arquivo.close()"
   ]
  },
  {
   "cell_type": "code",
   "execution_count": null,
   "id": "762612cf",
   "metadata": {},
   "outputs": [],
   "source": []
  }
 ],
 "metadata": {
  "kernelspec": {
   "display_name": "Python 3",
   "language": "python",
   "name": "python3"
  },
  "language_info": {
   "codemirror_mode": {
    "name": "ipython",
    "version": 3
   },
   "file_extension": ".py",
   "mimetype": "text/x-python",
   "name": "python",
   "nbconvert_exporter": "python",
   "pygments_lexer": "ipython3",
   "version": "3.8.8"
  }
 },
 "nbformat": 4,
 "nbformat_minor": 5
}
